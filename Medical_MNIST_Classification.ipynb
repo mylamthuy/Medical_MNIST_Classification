{
 "cells": [
  {
   "cell_type": "code",
   "execution_count": 1,
   "id": "a2005492",
   "metadata": {},
   "outputs": [],
   "source": [
    "import numpy as np\n",
    "import pandas as pd\n",
    "import os\n",
    "import matplotlib.pyplot as plt\n",
    "import seaborn as sns\n",
    "from sklearn.model_selection import train_test_split, KFold, cross_val_score\n",
    "from sklearn.metrics import accuracy_score, confusion_matrix, classification_report"
   ]
  },
  {
   "cell_type": "code",
   "execution_count": 2,
   "id": "921dba7e",
   "metadata": {},
   "outputs": [],
   "source": [
    "# Create a function to update images to array\n",
    "def images_to_ndarray(images_dir: str, label: int):\n",
    "  folder_path = 'Data/MedicalMNIST/' + images_dir + '/'\n",
    "  images_names = sorted(os.listdir(folder_path))\n",
    "  np_no_label_images = np.array([plt.imread(folder_path + img).flatten() for img in images_names])\n",
    "  np_label_images = np.zeros((np_no_label_images.shape[0],np_no_label_images.shape[1] + 1),dtype=int)\n",
    "  np_label_images[:,-1] = np.ones(np_no_label_images.shape[0], dtype=int) * label\n",
    "  np_label_images[:,:-1] = np_no_label_images\n",
    "  return np_label_images"
   ]
  },
  {
   "cell_type": "markdown",
   "id": "d4cfed70",
   "metadata": {},
   "source": [
    "## Load data"
   ]
  },
  {
   "cell_type": "code",
   "execution_count": 3,
   "id": "e8178a15",
   "metadata": {},
   "outputs": [],
   "source": [
    "labels_dict = {0 : 'AbdomenCT', 1 : 'BreastMRI', 2 : 'ChestCT', 3 : 'CXR', 4 : 'Hand', 5 : 'HeadCT'}\n",
    "label_data_0 = images_to_ndarray(labels_dict.get(0), 0)\n",
    "label_data_1 = images_to_ndarray(labels_dict.get(1), 1)\n",
    "label_data_2 = images_to_ndarray(labels_dict.get(2), 2)\n",
    "label_data_3 = images_to_ndarray(labels_dict.get(3), 3)\n",
    "label_data_4 = images_to_ndarray(labels_dict.get(4), 4)\n",
    "label_data_5 = images_to_ndarray(labels_dict.get(5), 5)\n",
    "data = np.r_[label_data_0, label_data_1, label_data_2, label_data_3, label_data_4, label_data_5]"
   ]
  },
  {
   "cell_type": "code",
   "execution_count": 4,
   "id": "9e2308f5",
   "metadata": {},
   "outputs": [
    {
     "data": {
      "text/plain": [
       "(58954, 4097)"
      ]
     },
     "execution_count": 4,
     "metadata": {},
     "output_type": "execute_result"
    }
   ],
   "source": [
    "data.shape"
   ]
  },
  {
   "cell_type": "markdown",
   "id": "3b0a695d",
   "metadata": {},
   "source": [
    "## Splitting train and test dataset"
   ]
  },
  {
   "cell_type": "code",
   "execution_count": 5,
   "id": "875b79d0",
   "metadata": {},
   "outputs": [],
   "source": [
    "X = data[:,:-1]\n",
    "y = data[:,-1]"
   ]
  },
  {
   "cell_type": "code",
   "execution_count": 6,
   "id": "560e053e",
   "metadata": {},
   "outputs": [],
   "source": [
    "X_train,X_test,y_train,y_test = train_test_split(X,y, test_size=0.2, random_state=42)"
   ]
  },
  {
   "cell_type": "code",
   "execution_count": 7,
   "id": "2d2fed2e",
   "metadata": {},
   "outputs": [],
   "source": [
    "# Chuẩn hoá dữ liệu\n",
    "X_train = X_train/255.0\n",
    "X_test = X_test/255.0"
   ]
  },
  {
   "cell_type": "markdown",
   "id": "5171bf67",
   "metadata": {},
   "source": [
    "## Model selection"
   ]
  },
  {
   "cell_type": "code",
   "execution_count": 9,
   "id": "64de82ce",
   "metadata": {},
   "outputs": [],
   "source": [
    "from sklearn.linear_model import LogisticRegression\n",
    "from sklearn.neighbors import KNeighborsClassifier\n",
    "from sklearn.tree import DecisionTreeClassifier\n",
    "from sklearn.ensemble import RandomForestClassifier\n",
    "from sklearn.svm import SVC\n",
    "\n",
    "from datetime import datetime"
   ]
  },
  {
   "cell_type": "code",
   "execution_count": 10,
   "id": "5ec4247e",
   "metadata": {},
   "outputs": [],
   "source": [
    "models = [\n",
    "    KNeighborsClassifier(n_neighbors=6),\n",
    "    KNeighborsClassifier(n_neighbors=12),\n",
    "    DecisionTreeClassifier(),\n",
    "    RandomForestClassifier(n_estimators=50),\n",
    "    RandomForestClassifier(n_estimators=150),\n",
    "    SVC(kernel='rbf'),\n",
    "    SVC(kernel='linear')\n",
    "]"
   ]
  },
  {
   "cell_type": "code",
   "execution_count": 11,
   "id": "5e1ef1fc",
   "metadata": {},
   "outputs": [],
   "source": [
    "def get_model_name(model):\n",
    "    model_name = model.__class__.__name__\n",
    "    if model_name == 'RandomForestClassifier':\n",
    "        model_name += '_' + str(model.n_estimators)\n",
    "    elif model_name == 'KNeighborsClassifier':\n",
    "        model_name += '_' + str(model.n_neighbors)\n",
    "    elif model_name == 'SVC':\n",
    "        model_name += '_' + model.kernel\n",
    "\n",
    "    return model_name"
   ]
  },
  {
   "cell_type": "code",
   "execution_count": 12,
   "id": "c047f9aa",
   "metadata": {},
   "outputs": [
    {
     "name": "stdout",
     "output_type": "stream",
     "text": [
      "Model selection took: 2:22:24.554625\n"
     ]
    }
   ],
   "source": [
    "time_start = datetime.now()\n",
    "# Number of cross validation\n",
    "cv = 10\n",
    "\n",
    "# Dataframe to store the model selection results\n",
    "cv_df = pd.DataFrame(columns=['model', 'mean_score', 'std_score', 'time'])\n",
    "\n",
    "# Loop through the models\n",
    "for model in models:\n",
    "    # Get the model name\n",
    "    model_name = get_model_name(model)\n",
    "    # Get the start time\n",
    "    start_time = datetime.now()\n",
    "    # Get the cross validation score for the model\n",
    "    cv_score = cross_val_score(model, X_train, y_train, cv=cv, n_jobs=-1)\n",
    "    # Get the end time\n",
    "    end_time = datetime.now()\n",
    "    # Get the time taken to train the model\n",
    "    time_taken = end_time - start_time\n",
    "    # Append the model name and score to the dataframe\n",
    "    cv_df = pd.concat([cv_df, pd.DataFrame.from_records([\n",
    "        {\n",
    "            'model': model_name,\n",
    "            'mean_score': cv_score.mean(),\n",
    "            'std_score': cv_score.std(),\n",
    "            'time': time_taken,\n",
    "        }])],\n",
    "        ignore_index=True,\n",
    "    )\n",
    "time_end = datetime.now()\n",
    "print('Model selection took:', time_end-time_start)"
   ]
  },
  {
   "cell_type": "code",
   "execution_count": 13,
   "id": "c1de649e",
   "metadata": {},
   "outputs": [
    {
     "data": {
      "text/html": [
       "<div>\n",
       "<style scoped>\n",
       "    .dataframe tbody tr th:only-of-type {\n",
       "        vertical-align: middle;\n",
       "    }\n",
       "\n",
       "    .dataframe tbody tr th {\n",
       "        vertical-align: top;\n",
       "    }\n",
       "\n",
       "    .dataframe thead th {\n",
       "        text-align: right;\n",
       "    }\n",
       "</style>\n",
       "<table border=\"1\" class=\"dataframe\">\n",
       "  <thead>\n",
       "    <tr style=\"text-align: right;\">\n",
       "      <th></th>\n",
       "      <th>model</th>\n",
       "      <th>mean_score</th>\n",
       "      <th>std_score</th>\n",
       "      <th>time</th>\n",
       "    </tr>\n",
       "  </thead>\n",
       "  <tbody>\n",
       "    <tr>\n",
       "      <th>0</th>\n",
       "      <td>KNeighborsClassifier_6</td>\n",
       "      <td>0.997244</td>\n",
       "      <td>0.00069</td>\n",
       "      <td>0 days 00:04:48.604622</td>\n",
       "    </tr>\n",
       "    <tr>\n",
       "      <th>1</th>\n",
       "      <td>KNeighborsClassifier_12</td>\n",
       "      <td>0.996438</td>\n",
       "      <td>0.000957</td>\n",
       "      <td>0 days 00:06:29.999880</td>\n",
       "    </tr>\n",
       "    <tr>\n",
       "      <th>2</th>\n",
       "      <td>DecisionTreeClassifier</td>\n",
       "      <td>0.994402</td>\n",
       "      <td>0.000885</td>\n",
       "      <td>0 days 01:20:21.764127</td>\n",
       "    </tr>\n",
       "    <tr>\n",
       "      <th>3</th>\n",
       "      <td>RandomForestClassifier_50</td>\n",
       "      <td>0.998897</td>\n",
       "      <td>0.000389</td>\n",
       "      <td>0 days 00:01:46.275561</td>\n",
       "    </tr>\n",
       "    <tr>\n",
       "      <th>4</th>\n",
       "      <td>RandomForestClassifier_150</td>\n",
       "      <td>0.998982</td>\n",
       "      <td>0.000656</td>\n",
       "      <td>0 days 00:10:12.413262</td>\n",
       "    </tr>\n",
       "    <tr>\n",
       "      <th>5</th>\n",
       "      <td>SVC_rbf</td>\n",
       "      <td>0.999215</td>\n",
       "      <td>0.000502</td>\n",
       "      <td>0 days 00:17:37.333743</td>\n",
       "    </tr>\n",
       "    <tr>\n",
       "      <th>6</th>\n",
       "      <td>SVC_linear</td>\n",
       "      <td>0.994508</td>\n",
       "      <td>0.000987</td>\n",
       "      <td>0 days 00:21:08.034301</td>\n",
       "    </tr>\n",
       "  </tbody>\n",
       "</table>\n",
       "</div>"
      ],
      "text/plain": [
       "                        model mean_score std_score                    time\n",
       "0      KNeighborsClassifier_6   0.997244   0.00069  0 days 00:04:48.604622\n",
       "1     KNeighborsClassifier_12   0.996438  0.000957  0 days 00:06:29.999880\n",
       "2      DecisionTreeClassifier   0.994402  0.000885  0 days 01:20:21.764127\n",
       "3   RandomForestClassifier_50   0.998897  0.000389  0 days 00:01:46.275561\n",
       "4  RandomForestClassifier_150   0.998982  0.000656  0 days 00:10:12.413262\n",
       "5                     SVC_rbf   0.999215  0.000502  0 days 00:17:37.333743\n",
       "6                  SVC_linear   0.994508  0.000987  0 days 00:21:08.034301"
      ]
     },
     "execution_count": 13,
     "metadata": {},
     "output_type": "execute_result"
    }
   ],
   "source": [
    "cv_df.head(10)"
   ]
  },
  {
   "cell_type": "code",
   "execution_count": 14,
   "id": "4d8793c1",
   "metadata": {},
   "outputs": [
    {
     "data": {
      "text/plain": [
       "(array([0, 1, 2, 3, 4, 5, 6]),\n",
       " [Text(0, 0, 'SVC_rbf'),\n",
       "  Text(1, 0, 'RandomForestClassifier_150'),\n",
       "  Text(2, 0, 'RandomForestClassifier_50'),\n",
       "  Text(3, 0, 'KNeighborsClassifier_6'),\n",
       "  Text(4, 0, 'KNeighborsClassifier_12'),\n",
       "  Text(5, 0, 'SVC_linear'),\n",
       "  Text(6, 0, 'DecisionTreeClassifier')])"
      ]
     },
     "execution_count": 14,
     "metadata": {},
     "output_type": "execute_result"
    },
    {
     "data": {
      "image/png": "[encoded data removed]",
      "text/plain": [
       "<Figure size 720x360 with 1 Axes>"
      ]
     },
     "metadata": {
      "needs_background": "light"
     },
     "output_type": "display_data"
    }
   ],
   "source": [
    "# Plot the cross validation score for the models\n",
    "plt.figure(figsize=(10, 5))\n",
    "sns.barplot(x='model', y='mean_score', data=cv_df.sort_values(by='mean_score', ascending=False))\n",
    "plt.xticks(rotation=45)"
   ]
  },
  {
   "cell_type": "markdown",
   "id": "0eaf5348",
   "metadata": {},
   "source": [
    "#### Comment:\n",
    "Select model SVC (kernel='rbf') because it has the highest accuracy score and the lower of standard deviation."
   ]
  },
  {
   "cell_type": "markdown",
   "id": "a3a1ef18",
   "metadata": {},
   "source": [
    "### Find the optimal parameter"
   ]
  },
  {
   "cell_type": "code",
   "execution_count": 15,
   "id": "fb8dce1b",
   "metadata": {},
   "outputs": [],
   "source": [
    "from sklearn.model_selection import GridSearchCV"
   ]
  },
  {
   "cell_type": "code",
   "execution_count": 16,
   "id": "ff13daf4",
   "metadata": {},
   "outputs": [],
   "source": [
    "# Create a dictionary of parameters\n",
    "param_grid = {'gamma': ['scale', 'auto']}"
   ]
  },
  {
   "cell_type": "code",
   "execution_count": 17,
   "id": "8ecb8aab",
   "metadata": {},
   "outputs": [
    {
     "name": "stdout",
     "output_type": "stream",
     "text": [
      "time taken: 0:55:46.885943\n"
     ]
    }
   ],
   "source": [
    "time_start = datetime.now()\n",
    "# Combine with GridSearchCV\n",
    "clf_grid = GridSearchCV(SVC(kernel='rbf'), param_grid, cv=10, n_jobs=-1)\n",
    "clf_grid.fit(X_train, y_train)\n",
    "time_end = datetime.now()\n",
    "print('time taken:', time_end-time_start)"
   ]
  },
  {
   "cell_type": "code",
   "execution_count": 18,
   "id": "6cad47e3",
   "metadata": {},
   "outputs": [
    {
     "name": "stdout",
     "output_type": "stream",
     "text": [
      "Best parameters: {'gamma': 'scale'}\n",
      "Best score: 0.99921547726871\n"
     ]
    }
   ],
   "source": [
    "# The optimal parameters\n",
    "print(\"Best parameters: {}\".format(clf_grid.best_params_))\n",
    "# The highest score\n",
    "print(\"Best score: {}\".format(clf_grid.best_score_))"
   ]
  },
  {
   "cell_type": "code",
   "execution_count": 19,
   "id": "d85e57f4",
   "metadata": {},
   "outputs": [
    {
     "data": {
      "text/html": [
       "<style>#sk-container-id-1 {color: black;background-color: white;}#sk-container-id-1 pre{padding: 0;}#sk-container-id-1 div.sk-toggleable {background-color: white;}#sk-container-id-1 label.sk-toggleable__label {cursor: pointer;display: block;width: 100%;margin-bottom: 0;padding: 0.3em;box-sizing: border-box;text-align: center;}#sk-container-id-1 label.sk-toggleable__label-arrow:before {content: \"▸\";float: left;margin-right: 0.25em;color: #696969;}#sk-container-id-1 label.sk-toggleable__label-arrow:hover:before {color: black;}#sk-container-id-1 div.sk-estimator:hover label.sk-toggleable__label-arrow:before {color: black;}#sk-container-id-1 div.sk-toggleable__content {max-height: 0;max-width: 0;overflow: hidden;text-align: left;background-color: #f0f8ff;}#sk-container-id-1 div.sk-toggleable__content pre {margin: 0.2em;color: black;border-radius: 0.25em;background-color: #f0f8ff;}#sk-container-id-1 input.sk-toggleable__control:checked~div.sk-toggleable__content {max-height: 200px;max-width: 100%;overflow: auto;}#sk-container-id-1 input.sk-toggleable__control:checked~label.sk-toggleable__label-arrow:before {content: \"▾\";}#sk-container-id-1 div.sk-estimator input.sk-toggleable__control:checked~label.sk-toggleable__label {background-color: #d4ebff;}#sk-container-id-1 div.sk-label input.sk-toggleable__control:checked~label.sk-toggleable__label {background-color: #d4ebff;}#sk-container-id-1 input.sk-hidden--visually {border: 0;clip: rect(1px 1px 1px 1px);clip: rect(1px, 1px, 1px, 1px);height: 1px;margin: -1px;overflow: hidden;padding: 0;position: absolute;width: 1px;}#sk-container-id-1 div.sk-estimator {font-family: monospace;background-color: #f0f8ff;border: 1px dotted black;border-radius: 0.25em;box-sizing: border-box;margin-bottom: 0.5em;}#sk-container-id-1 div.sk-estimator:hover {background-color: #d4ebff;}#sk-container-id-1 div.sk-parallel-item::after {content: \"\";width: 100%;border-bottom: 1px solid gray;flex-grow: 1;}#sk-container-id-1 div.sk-label:hover label.sk-toggleable__label {background-color: #d4ebff;}#sk-container-id-1 div.sk-serial::before {content: \"\";position: absolute;border-left: 1px solid gray;box-sizing: border-box;top: 0;bottom: 0;left: 50%;z-index: 0;}#sk-container-id-1 div.sk-serial {display: flex;flex-direction: column;align-items: center;background-color: white;padding-right: 0.2em;padding-left: 0.2em;position: relative;}#sk-container-id-1 div.sk-item {position: relative;z-index: 1;}#sk-container-id-1 div.sk-parallel {display: flex;align-items: stretch;justify-content: center;background-color: white;position: relative;}#sk-container-id-1 div.sk-item::before, #sk-container-id-1 div.sk-parallel-item::before {content: \"\";position: absolute;border-left: 1px solid gray;box-sizing: border-box;top: 0;bottom: 0;left: 50%;z-index: -1;}#sk-container-id-1 div.sk-parallel-item {display: flex;flex-direction: column;z-index: 1;position: relative;background-color: white;}#sk-container-id-1 div.sk-parallel-item:first-child::after {align-self: flex-end;width: 50%;}#sk-container-id-1 div.sk-parallel-item:last-child::after {align-self: flex-start;width: 50%;}#sk-container-id-1 div.sk-parallel-item:only-child::after {width: 0;}#sk-container-id-1 div.sk-dashed-wrapped {border: 1px dashed gray;margin: 0 0.4em 0.5em 0.4em;box-sizing: border-box;padding-bottom: 0.4em;background-color: white;}#sk-container-id-1 div.sk-label label {font-family: monospace;font-weight: bold;display: inline-block;line-height: 1.2em;}#sk-container-id-1 div.sk-label-container {text-align: center;}#sk-container-id-1 div.sk-container {/* jupyter's `normalize.less` sets `[hidden] { display: none; }` but bootstrap.min.css set `[hidden] { display: none !important; }` so we also need the `!important` here to be able to override the default hidden behavior on the sphinx rendered scikit-learn.org. See: https://github.com/scikit-learn/scikit-learn/issues/21755 */display: inline-block !important;position: relative;}#sk-container-id-1 div.sk-text-repr-fallback {display: none;}</style><div id=\"sk-container-id-1\" class=\"sk-top-container\"><div class=\"sk-text-repr-fallback\"><pre>SVC()</pre><b>In a Jupyter environment, please rerun this cell to show the HTML representation or trust the notebook. <br />On GitHub, the HTML representation is unable to render, please try loading this page with nbviewer.org.</b></div><div class=\"sk-container\" hidden><div class=\"sk-item\"><div class=\"sk-estimator sk-toggleable\"><input class=\"sk-toggleable__control sk-hidden--visually\" id=\"sk-estimator-id-1\" type=\"checkbox\" checked><label for=\"sk-estimator-id-1\" class=\"sk-toggleable__label sk-toggleable__label-arrow\">SVC</label><div class=\"sk-toggleable__content\"><pre>SVC()</pre></div></div></div></div></div>"
      ],
      "text/plain": [
       "SVC()"
      ]
     },
     "execution_count": 19,
     "metadata": {},
     "output_type": "execute_result"
    }
   ],
   "source": [
    "# Create the best model\n",
    "clf = SVC(kernel='rbf', gamma=clf_grid.best_params_['gamma'])\n",
    "clf.fit(X_train, y_train)"
   ]
  },
  {
   "cell_type": "markdown",
   "id": "fa01ec4e",
   "metadata": {},
   "source": [
    "### Model evaluation"
   ]
  },
  {
   "cell_type": "code",
   "execution_count": 20,
   "id": "50309840",
   "metadata": {},
   "outputs": [
    {
     "name": "stdout",
     "output_type": "stream",
     "text": [
      "Train score: 0.9991942773535097 +- 0.0005176509085469725\n",
      "Train score: 0.9977099955434798 +- 0.00156632448193424\n",
      "Accuracy score: 0.9989822746162327\n",
      "-------------------------\n",
      "Thời gian chạy mô hình với cross validation: 0:12:02.931925\n"
     ]
    }
   ],
   "source": [
    "time_start = datetime.now()\n",
    "\n",
    "kf = KFold(n_splits=10)\n",
    "train_score = cross_val_score(clf, X_train, y_train, cv=kf)\n",
    "print('Train score:', train_score.mean(), '+-', train_score.std())\n",
    "test_score = cross_val_score(clf, X_test, y_test, cv=kf)\n",
    "print('Train score:', test_score.mean(), '+-', test_score.std())\n",
    "y_pred = clf.predict(X_test)\n",
    "print('Accuracy score:', accuracy_score(y_test, y_pred))\n",
    "\n",
    "print('-------------------------')\n",
    "time_end = datetime.now()\n",
    "print('Thời gian chạy mô hình với cross validation:', time_end-time_start)"
   ]
  },
  {
   "cell_type": "code",
   "execution_count": 21,
   "id": "d7864578",
   "metadata": {},
   "outputs": [
    {
     "name": "stdout",
     "output_type": "stream",
     "text": [
      "confusion_matrix: [[2045    0    0    0    0    0]\n",
      " [   0 1751    0    0    0    0]\n",
      " [   0    0 1963    0    0    0]\n",
      " [   0    0    0 1983    6    0]\n",
      " [   0    0    0    1 2017    5]\n",
      " [   0    0    0    0    0 2020]]\n",
      "              precision    recall  f1-score   support\n",
      "\n",
      "           0       1.00      1.00      1.00      2045\n",
      "           1       1.00      1.00      1.00      1751\n",
      "           2       1.00      1.00      1.00      1963\n",
      "           3       1.00      1.00      1.00      1989\n",
      "           4       1.00      1.00      1.00      2023\n",
      "           5       1.00      1.00      1.00      2020\n",
      "\n",
      "    accuracy                           1.00     11791\n",
      "   macro avg       1.00      1.00      1.00     11791\n",
      "weighted avg       1.00      1.00      1.00     11791\n",
      "\n"
     ]
    }
   ],
   "source": [
    "# confusion_matrix và clasification_report\n",
    "print('confusion_matrix:', confusion_matrix(y_test, y_pred))\n",
    "print(classification_report(y_test, y_pred))"
   ]
  },
  {
   "cell_type": "markdown",
   "id": "11fa5379",
   "metadata": {},
   "source": [
    "#### Comment:\n",
    "- Model has a high Accuracy score (99%), low error\n",
    "- High precision, recall and F1 score\n",
    "> Model predicts with a high accuracy score, it may use to define the Medical MNIST images"
   ]
  },
  {
   "cell_type": "markdown",
   "id": "7bf81147",
   "metadata": {},
   "source": [
    "## Use PCA to reduce the model running time"
   ]
  },
  {
   "cell_type": "code",
   "execution_count": 22,
   "id": "c0344a20",
   "metadata": {},
   "outputs": [],
   "source": [
    "from sklearn.decomposition import PCA"
   ]
  },
  {
   "cell_type": "code",
   "execution_count": 23,
   "id": "0a6ae352",
   "metadata": {},
   "outputs": [],
   "source": [
    "pca = PCA(0.9)\n",
    "X_train_pca = pca.fit_transform(X_train)\n",
    "X_test_pca = pca.transform(X_test)"
   ]
  },
  {
   "cell_type": "markdown",
   "id": "4726c34b",
   "metadata": {},
   "source": [
    "### Carrying on some previous steps:\n",
    "- Model selection\n",
    "- Find the optimal parameter\n",
    "- Model evaluation"
   ]
  },
  {
   "cell_type": "markdown",
   "id": "4b3d94b9",
   "metadata": {},
   "source": [
    "#### Model selection"
   ]
  },
  {
   "cell_type": "code",
   "execution_count": 24,
   "id": "27a83761",
   "metadata": {},
   "outputs": [
    {
     "name": "stdout",
     "output_type": "stream",
     "text": [
      "Model selection took: 0:03:00.949556\n"
     ]
    }
   ],
   "source": [
    "time_start = datetime.now()\n",
    "# Number of cross validation\n",
    "cv = 10\n",
    "\n",
    "# Dataframe to store the model selection results\n",
    "cv_df_pca = pd.DataFrame(columns=['model', 'mean_score', 'std_score', 'time'])\n",
    "\n",
    "# Loop through the models\n",
    "for model in models:\n",
    "    # Get the model name\n",
    "    model_name = get_model_name(model)\n",
    "    # Get the start time\n",
    "    start_time = datetime.now()\n",
    "    # Get the cross validation score for the model\n",
    "    cv_score = cross_val_score(model, X_train_pca, y_train, cv=cv, n_jobs=-1)\n",
    "    # Get the end time\n",
    "    end_time = datetime.now()\n",
    "    # Get the time taken to train the model\n",
    "    time_taken = end_time - start_time\n",
    "    # Append the model name and score to the dataframe\n",
    "    cv_df_pca = pd.concat([cv_df_pca, pd.DataFrame.from_records([\n",
    "        {\n",
    "            'model': model_name,\n",
    "            'mean_score': cv_score.mean(),\n",
    "            'std_score': cv_score.std(),\n",
    "            'time': time_taken,\n",
    "        }])],\n",
    "        ignore_index=True,\n",
    "    )\n",
    "time_end = datetime.now()\n",
    "print('Model selection took:', time_end-time_start)"
   ]
  },
  {
   "cell_type": "code",
   "execution_count": 25,
   "id": "2df812e9",
   "metadata": {},
   "outputs": [
    {
     "data": {
      "text/html": [
       "<div>\n",
       "<style scoped>\n",
       "    .dataframe tbody tr th:only-of-type {\n",
       "        vertical-align: middle;\n",
       "    }\n",
       "\n",
       "    .dataframe tbody tr th {\n",
       "        vertical-align: top;\n",
       "    }\n",
       "\n",
       "    .dataframe thead th {\n",
       "        text-align: right;\n",
       "    }\n",
       "</style>\n",
       "<table border=\"1\" class=\"dataframe\">\n",
       "  <thead>\n",
       "    <tr style=\"text-align: right;\">\n",
       "      <th></th>\n",
       "      <th>model</th>\n",
       "      <th>mean_score</th>\n",
       "      <th>std_score</th>\n",
       "      <th>time</th>\n",
       "    </tr>\n",
       "  </thead>\n",
       "  <tbody>\n",
       "    <tr>\n",
       "      <th>5</th>\n",
       "      <td>SVC_rbf</td>\n",
       "      <td>0.999364</td>\n",
       "      <td>0.000493</td>\n",
       "      <td>0 days 00:00:12.083449</td>\n",
       "    </tr>\n",
       "    <tr>\n",
       "      <th>0</th>\n",
       "      <td>KNeighborsClassifier_6</td>\n",
       "      <td>0.997965</td>\n",
       "      <td>0.000736</td>\n",
       "      <td>0 days 00:00:08.205636</td>\n",
       "    </tr>\n",
       "    <tr>\n",
       "      <th>4</th>\n",
       "      <td>RandomForestClassifier_150</td>\n",
       "      <td>0.997668</td>\n",
       "      <td>0.000741</td>\n",
       "      <td>0 days 00:01:31.739962</td>\n",
       "    </tr>\n",
       "    <tr>\n",
       "      <th>1</th>\n",
       "      <td>KNeighborsClassifier_12</td>\n",
       "      <td>0.997456</td>\n",
       "      <td>0.000869</td>\n",
       "      <td>0 days 00:00:07.036390</td>\n",
       "    </tr>\n",
       "    <tr>\n",
       "      <th>3</th>\n",
       "      <td>RandomForestClassifier_50</td>\n",
       "      <td>0.99718</td>\n",
       "      <td>0.000747</td>\n",
       "      <td>0 days 00:00:31.166821</td>\n",
       "    </tr>\n",
       "    <tr>\n",
       "      <th>6</th>\n",
       "      <td>SVC_linear</td>\n",
       "      <td>0.995187</td>\n",
       "      <td>0.000776</td>\n",
       "      <td>0 days 00:00:21.143527</td>\n",
       "    </tr>\n",
       "    <tr>\n",
       "      <th>2</th>\n",
       "      <td>DecisionTreeClassifier</td>\n",
       "      <td>0.992664</td>\n",
       "      <td>0.001166</td>\n",
       "      <td>0 days 00:00:09.554390</td>\n",
       "    </tr>\n",
       "  </tbody>\n",
       "</table>\n",
       "</div>"
      ],
      "text/plain": [
       "                        model mean_score std_score                    time\n",
       "5                     SVC_rbf   0.999364  0.000493  0 days 00:00:12.083449\n",
       "0      KNeighborsClassifier_6   0.997965  0.000736  0 days 00:00:08.205636\n",
       "4  RandomForestClassifier_150   0.997668  0.000741  0 days 00:01:31.739962\n",
       "1     KNeighborsClassifier_12   0.997456  0.000869  0 days 00:00:07.036390\n",
       "3   RandomForestClassifier_50    0.99718  0.000747  0 days 00:00:31.166821\n",
       "6                  SVC_linear   0.995187  0.000776  0 days 00:00:21.143527\n",
       "2      DecisionTreeClassifier   0.992664  0.001166  0 days 00:00:09.554390"
      ]
     },
     "execution_count": 25,
     "metadata": {},
     "output_type": "execute_result"
    }
   ],
   "source": [
    "cv_df_pca.sort_values(by='mean_score', ascending=False)"
   ]
  },
  {
   "cell_type": "code",
   "execution_count": 26,
   "id": "53244d49",
   "metadata": {},
   "outputs": [
    {
     "data": {
      "text/plain": [
       "(array([0, 1, 2, 3, 4, 5, 6]),\n",
       " [Text(0, 0, 'SVC_rbf'),\n",
       "  Text(1, 0, 'KNeighborsClassifier_6'),\n",
       "  Text(2, 0, 'RandomForestClassifier_150'),\n",
       "  Text(3, 0, 'KNeighborsClassifier_12'),\n",
       "  Text(4, 0, 'RandomForestClassifier_50'),\n",
       "  Text(5, 0, 'SVC_linear'),\n",
       "  Text(6, 0, 'DecisionTreeClassifier')])"
      ]
     },
     "execution_count": 26,
     "metadata": {},
     "output_type": "execute_result"
    },
    {
     "data": {
      "image/png": "[encoded data removed]",
      "text/plain": [
       "<Figure size 720x360 with 1 Axes>"
      ]
     },
     "metadata": {
      "needs_background": "light"
     },
     "output_type": "display_data"
    }
   ],
   "source": [
    "# Plot the cross validation score for the models\n",
    "plt.figure(figsize=(10, 5))\n",
    "sns.barplot(x='model', y='mean_score', data=cv_df_pca.sort_values(by='mean_score', ascending=False))\n",
    "plt.xticks(rotation=45)"
   ]
  },
  {
   "cell_type": "markdown",
   "id": "b6153daf",
   "metadata": {},
   "source": [
    "#### Find the optimal parameter"
   ]
  },
  {
   "cell_type": "code",
   "execution_count": 27,
   "id": "431c7495",
   "metadata": {},
   "outputs": [
    {
     "name": "stdout",
     "output_type": "stream",
     "text": [
      "time taken: 0:01:12.248159\n"
     ]
    }
   ],
   "source": [
    "time_start = datetime.now()\n",
    "# Use GridSearchCV\n",
    "clf_grid_pca = GridSearchCV(SVC(kernel='rbf'), param_grid, cv=10, n_jobs=-1)\n",
    "clf_grid_pca.fit(X_train_pca, y_train)\n",
    "time_end = datetime.now()\n",
    "print('time taken:', time_end-time_start)"
   ]
  },
  {
   "cell_type": "code",
   "execution_count": 28,
   "id": "8219b029",
   "metadata": {},
   "outputs": [
    {
     "name": "stdout",
     "output_type": "stream",
     "text": [
      "Best parameters: {'gamma': 'scale'}\n",
      "Best score: 0.9993638991516975\n"
     ]
    }
   ],
   "source": [
    "# The optimal parameter\n",
    "print(\"Best parameters: {}\".format(clf_grid_pca.best_params_))\n",
    "# The highest score\n",
    "print(\"Best score: {}\".format(clf_grid_pca.best_score_))"
   ]
  },
  {
   "cell_type": "code",
   "execution_count": 29,
   "id": "d1a04f27",
   "metadata": {},
   "outputs": [
    {
     "data": {
      "text/html": [
       "<style>#sk-container-id-2 {color: black;background-color: white;}#sk-container-id-2 pre{padding: 0;}#sk-container-id-2 div.sk-toggleable {background-color: white;}#sk-container-id-2 label.sk-toggleable__label {cursor: pointer;display: block;width: 100%;margin-bottom: 0;padding: 0.3em;box-sizing: border-box;text-align: center;}#sk-container-id-2 label.sk-toggleable__label-arrow:before {content: \"▸\";float: left;margin-right: 0.25em;color: #696969;}#sk-container-id-2 label.sk-toggleable__label-arrow:hover:before {color: black;}#sk-container-id-2 div.sk-estimator:hover label.sk-toggleable__label-arrow:before {color: black;}#sk-container-id-2 div.sk-toggleable__content {max-height: 0;max-width: 0;overflow: hidden;text-align: left;background-color: #f0f8ff;}#sk-container-id-2 div.sk-toggleable__content pre {margin: 0.2em;color: black;border-radius: 0.25em;background-color: #f0f8ff;}#sk-container-id-2 input.sk-toggleable__control:checked~div.sk-toggleable__content {max-height: 200px;max-width: 100%;overflow: auto;}#sk-container-id-2 input.sk-toggleable__control:checked~label.sk-toggleable__label-arrow:before {content: \"▾\";}#sk-container-id-2 div.sk-estimator input.sk-toggleable__control:checked~label.sk-toggleable__label {background-color: #d4ebff;}#sk-container-id-2 div.sk-label input.sk-toggleable__control:checked~label.sk-toggleable__label {background-color: #d4ebff;}#sk-container-id-2 input.sk-hidden--visually {border: 0;clip: rect(1px 1px 1px 1px);clip: rect(1px, 1px, 1px, 1px);height: 1px;margin: -1px;overflow: hidden;padding: 0;position: absolute;width: 1px;}#sk-container-id-2 div.sk-estimator {font-family: monospace;background-color: #f0f8ff;border: 1px dotted black;border-radius: 0.25em;box-sizing: border-box;margin-bottom: 0.5em;}#sk-container-id-2 div.sk-estimator:hover {background-color: #d4ebff;}#sk-container-id-2 div.sk-parallel-item::after {content: \"\";width: 100%;border-bottom: 1px solid gray;flex-grow: 1;}#sk-container-id-2 div.sk-label:hover label.sk-toggleable__label {background-color: #d4ebff;}#sk-container-id-2 div.sk-serial::before {content: \"\";position: absolute;border-left: 1px solid gray;box-sizing: border-box;top: 0;bottom: 0;left: 50%;z-index: 0;}#sk-container-id-2 div.sk-serial {display: flex;flex-direction: column;align-items: center;background-color: white;padding-right: 0.2em;padding-left: 0.2em;position: relative;}#sk-container-id-2 div.sk-item {position: relative;z-index: 1;}#sk-container-id-2 div.sk-parallel {display: flex;align-items: stretch;justify-content: center;background-color: white;position: relative;}#sk-container-id-2 div.sk-item::before, #sk-container-id-2 div.sk-parallel-item::before {content: \"\";position: absolute;border-left: 1px solid gray;box-sizing: border-box;top: 0;bottom: 0;left: 50%;z-index: -1;}#sk-container-id-2 div.sk-parallel-item {display: flex;flex-direction: column;z-index: 1;position: relative;background-color: white;}#sk-container-id-2 div.sk-parallel-item:first-child::after {align-self: flex-end;width: 50%;}#sk-container-id-2 div.sk-parallel-item:last-child::after {align-self: flex-start;width: 50%;}#sk-container-id-2 div.sk-parallel-item:only-child::after {width: 0;}#sk-container-id-2 div.sk-dashed-wrapped {border: 1px dashed gray;margin: 0 0.4em 0.5em 0.4em;box-sizing: border-box;padding-bottom: 0.4em;background-color: white;}#sk-container-id-2 div.sk-label label {font-family: monospace;font-weight: bold;display: inline-block;line-height: 1.2em;}#sk-container-id-2 div.sk-label-container {text-align: center;}#sk-container-id-2 div.sk-container {/* jupyter's `normalize.less` sets `[hidden] { display: none; }` but bootstrap.min.css set `[hidden] { display: none !important; }` so we also need the `!important` here to be able to override the default hidden behavior on the sphinx rendered scikit-learn.org. See: https://github.com/scikit-learn/scikit-learn/issues/21755 */display: inline-block !important;position: relative;}#sk-container-id-2 div.sk-text-repr-fallback {display: none;}</style><div id=\"sk-container-id-2\" class=\"sk-top-container\"><div class=\"sk-text-repr-fallback\"><pre>SVC()</pre><b>In a Jupyter environment, please rerun this cell to show the HTML representation or trust the notebook. <br />On GitHub, the HTML representation is unable to render, please try loading this page with nbviewer.org.</b></div><div class=\"sk-container\" hidden><div class=\"sk-item\"><div class=\"sk-estimator sk-toggleable\"><input class=\"sk-toggleable__control sk-hidden--visually\" id=\"sk-estimator-id-2\" type=\"checkbox\" checked><label for=\"sk-estimator-id-2\" class=\"sk-toggleable__label sk-toggleable__label-arrow\">SVC</label><div class=\"sk-toggleable__content\"><pre>SVC()</pre></div></div></div></div></div>"
      ],
      "text/plain": [
       "SVC()"
      ]
     },
     "execution_count": 29,
     "metadata": {},
     "output_type": "execute_result"
    }
   ],
   "source": [
    "# Create the best model\n",
    "clf_pca = SVC(kernel='rbf', gamma=clf_grid_pca.best_params_['gamma'])\n",
    "clf_pca.fit(X_train_pca, y_train)"
   ]
  },
  {
   "cell_type": "markdown",
   "id": "dc56cba0",
   "metadata": {},
   "source": [
    "#### Model evaluation"
   ]
  },
  {
   "cell_type": "code",
   "execution_count": 30,
   "id": "38566c65",
   "metadata": {},
   "outputs": [
    {
     "name": "stdout",
     "output_type": "stream",
     "text": [
      "Train score: 0.9993427037318143 +- 0.00047836721102960584\n",
      "Train score: 0.998049266111758 +- 0.0014218585250408162\n",
      "Accuracy score: 0.99906708506488\n",
      "-------------------------\n",
      "Thời gian chạy mô hình với cross validation: 0:00:33.664037\n"
     ]
    }
   ],
   "source": [
    "time_start = datetime.now()\n",
    "\n",
    "kf = KFold(n_splits=10)\n",
    "train_score = cross_val_score(clf_pca, X_train_pca, y_train, cv=kf)\n",
    "print('Train score:', train_score.mean(), '+-', train_score.std())\n",
    "test_score = cross_val_score(clf_pca, X_test_pca, y_test, cv=kf)\n",
    "print('Train score:', test_score.mean(), '+-', test_score.std())\n",
    "y_pred = clf_pca.predict(X_test_pca)\n",
    "print('Accuracy score:', accuracy_score(y_test, y_pred))\n",
    "\n",
    "print('-------------------------')\n",
    "time_end = datetime.now()\n",
    "print('Thời gian chạy mô hình với cross validation:', time_end-time_start)"
   ]
  },
  {
   "cell_type": "code",
   "execution_count": 31,
   "id": "2f43d0b0",
   "metadata": {},
   "outputs": [
    {
     "name": "stdout",
     "output_type": "stream",
     "text": [
      "confusion_matrix: [[2045    0    0    0    0    0]\n",
      " [   0 1751    0    0    0    0]\n",
      " [   0    0 1963    0    0    0]\n",
      " [   0    0    0 1984    5    0]\n",
      " [   0    0    0    1 2017    5]\n",
      " [   0    0    0    0    0 2020]]\n",
      "              precision    recall  f1-score   support\n",
      "\n",
      "           0       1.00      1.00      1.00      2045\n",
      "           1       1.00      1.00      1.00      1751\n",
      "           2       1.00      1.00      1.00      1963\n",
      "           3       1.00      1.00      1.00      1989\n",
      "           4       1.00      1.00      1.00      2023\n",
      "           5       1.00      1.00      1.00      2020\n",
      "\n",
      "    accuracy                           1.00     11791\n",
      "   macro avg       1.00      1.00      1.00     11791\n",
      "weighted avg       1.00      1.00      1.00     11791\n",
      "\n"
     ]
    }
   ],
   "source": [
    "# Xem confusion_matrix và clasification_report\n",
    "print('confusion_matrix:', confusion_matrix(y_test, y_pred))\n",
    "print(classification_report(y_test, y_pred))"
   ]
  },
  {
   "cell_type": "markdown",
   "id": "dc66c80e",
   "metadata": {},
   "source": [
    "#### Conclution: after PCA\n",
    "- The accuracy score is still high\n",
    "- Improving significantly execution time (time to select model is just 3 minutes compared to 2 hours and 22 minutes and the execution time and model evaluation with cross validation decreases from 12minutes to just 33 seconds)"
   ]
  },
  {
   "cell_type": "code",
   "execution_count": null,
   "id": "dceb86c2",
   "metadata": {},
   "outputs": [],
   "source": []
  }
 ],
 "metadata": {
  "kernelspec": {
   "display_name": "Python 3 (ipykernel)",
   "language": "python",
   "name": "python3"
  },
  "language_info": {
   "codemirror_mode": {
    "name": "ipython",
    "version": 3
   },
   "file_extension": ".py",
   "mimetype": "text/x-python",
   "name": "python",
   "nbconvert_exporter": "python",
   "pygments_lexer": "ipython3",
   "version": "3.8.10"
  }
 },
 "nbformat": 4,
 "nbformat_minor": 5
}
